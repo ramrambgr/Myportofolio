{
  "cells": [
    {
      "cell_type": "code",
      "execution_count": null,
      "metadata": {
        "id": "J6IzZ81hUq8m"
      },
      "outputs": [],
      "source": [
        "!pip install -q kaggle"
      ]
    },
    {
      "cell_type": "code",
      "execution_count": null,
      "metadata": {
        "id": "EjWm-mjyUwL4"
      },
      "outputs": [],
      "source": [
        "!mkdir ~/.kaggle"
      ]
    },
    {
      "cell_type": "code",
      "execution_count": null,
      "metadata": {
        "id": "gMSP-hTrUw9h",
        "colab": {
          "base_uri": "https://localhost:8080/"
        },
        "outputId": "8218bfee-01d3-43e6-bfaf-cd60a8c8db36"
      },
      "outputs": [
        {
          "output_type": "stream",
          "name": "stdout",
          "text": [
            "cp: cannot stat 'kaggle.json': No such file or directory\n"
          ]
        }
      ],
      "source": [
        "!cp kaggle.json ~/.kaggle"
      ]
    },
    {
      "cell_type": "code",
      "execution_count": null,
      "metadata": {
        "id": "aNvwbX5MUxxt",
        "colab": {
          "base_uri": "https://localhost:8080/"
        },
        "outputId": "6d92cc85-8ab8-463b-e4d6-00982a81e47d"
      },
      "outputs": [
        {
          "output_type": "stream",
          "name": "stdout",
          "text": [
            "chmod: cannot access '/root/.kaggle/kaggle.json': No such file or directory\n"
          ]
        }
      ],
      "source": [
        "!chmod 600 ~/.kaggle/kaggle.json"
      ]
    },
    {
      "cell_type": "code",
      "execution_count": null,
      "metadata": {
        "colab": {
          "base_uri": "https://localhost:8080/"
        },
        "id": "np5uBCSCUyqU",
        "outputId": "3f2d729d-61b1-4243-f6e2-d3e5f743718b"
      },
      "outputs": [
        {
          "output_type": "stream",
          "name": "stdout",
          "text": [
            "Dataset URL: https://www.kaggle.com/datasets/charlesdometian/cassava-plant-diseases\n",
            "License(s): unknown\n",
            "Downloading cassava-plant-diseases.zip to /content\n",
            "100% 2.38G/2.39G [00:36<00:00, 151MB/s]\n",
            "100% 2.39G/2.39G [00:36<00:00, 69.5MB/s]\n"
          ]
        }
      ],
      "source": [
        "!kaggle datasets download -d 'charlesdometian/cassava-plant-diseases'"
      ]
    },
    {
      "cell_type": "code",
      "execution_count": null,
      "metadata": {
        "id": "RUgRUiPHUzob"
      },
      "outputs": [],
      "source": [
        "# Import library yang dibutuhkan\n",
        "import numpy as np\n",
        "import matplotlib.pyplot as plt\n",
        "import zipfile\n",
        "import os\n",
        "import shutil\n",
        "import tensorflow as tf\n",
        "from tensorflow.keras.preprocessing.image import ImageDataGenerator\n",
        "from sklearn.model_selection import train_test_split\n",
        "from tensorflow.keras.models import Sequential\n",
        "from hyperopt import fmin, tpe, hp\n",
        "from tensorflow.keras.layers import Dense, GlobalAveragePooling2D, Dropout\n",
        "from tensorflow.keras.optimizers import Adam\n",
        "from tensorflow.keras.layers import Input\n",
        "from tensorflow.keras.layers import RandomFlip, RandomRotation, RandomZoom\n",
        "from keras.layers import Flatten\n",
        "from tensorflow.keras import layers\n",
        "from tensorflow.keras import Model"
      ]
    },
    {
      "cell_type": "code",
      "execution_count": null,
      "metadata": {
        "id": "nMdwnoPwU16b"
      },
      "outputs": [],
      "source": [
        "#Melakukan ekstrak pada dataset\n",
        "local_zip = '/content/cassava-plant-diseases.zip'\n",
        "zip_ref = zipfile.ZipFile(local_zip,'r')\n",
        "zip_ref.extractall('/content')\n",
        "zip_ref.close()"
      ]
    },
    {
      "cell_type": "code",
      "execution_count": null,
      "metadata": {
        "id": "FYc10tlUU_g-"
      },
      "outputs": [],
      "source": [
        "base_dir = 'cassava_dataset'\n",
        "train_dir = os.path.join(base_dir, 'train')\n",
        "validation_dir = os.path.join(base_dir, 'val')"
      ]
    },
    {
      "cell_type": "code",
      "execution_count": null,
      "metadata": {
        "id": "AGyaUoOVU_6k"
      },
      "outputs": [],
      "source": [
        "# Membuat direktori base jika belum ada\n",
        "if not os.path.exists(base_dir):\n",
        "    os.mkdir(base_dir)\n",
        "\n",
        "train_dir = os.path.join(base_dir, 'train')\n",
        "validation_dir = os.path.join(base_dir, 'val')\n",
        "\n",
        "# Membuat direktori train dan validation\n",
        "os.mkdir(train_dir)\n",
        "os.mkdir(validation_dir)"
      ]
    },
    {
      "cell_type": "code",
      "execution_count": null,
      "metadata": {
        "id": "Xz3C4xh_VBBC"
      },
      "outputs": [],
      "source": [
        "Cassava___bacterial_blight_dir = os.path.join(base_dir, 'Cassava___bacterial_blight')\n",
        "Cassava___brown_streak_disease_dir = os.path.join(base_dir,'Cassava___brown_streak_disease')\n",
        "Cassava___green_mottle_dir = os.path.join(base_dir,'Cassava___green_mottle')\n",
        "Cassava___healthy_dir = os.path.join(base_dir,'Cassava___healthy')\n",
        "Cassava___mosaic_disease_dir = os.path.join(base_dir,'Cassava___mosaic_disease')"
      ]
    },
    {
      "cell_type": "code",
      "execution_count": null,
      "metadata": {
        "id": "73t-9YbLVC8u"
      },
      "outputs": [],
      "source": [
        "#Memecah direktori cassava_bacterial_blight menjadi data train dan data validation\n",
        "train_Cassava___bacterial_blight_dir, val_Cassava___bacterial_blight_dir = train_test_split(os.listdir(Cassava___bacterial_blight_dir), test_size = 0.1)\n",
        "\n",
        "#Memecah direktori cassava_brown_streak_disease menjadi data train dan data validation\n",
        "train_Cassava___brown_streak_disease_dir, val_Cassava___brown_streak_disease_dir = train_test_split(os.listdir(Cassava___brown_streak_disease_dir), test_size = 0.1)\n",
        "\n",
        "#Memecah direktori cassava_green_mottle menjadi data train dan data validation\n",
        "train_Cassava___green_mottle_dir, val_Cassava___green_mottle_dir = train_test_split(os.listdir(Cassava___green_mottle_dir), test_size = 0.1)\n",
        "\n",
        "#Memecah direktori cassava_healthy menjadi data train dan data validation\n",
        "train_Cassava___healthy_dir, val_Cassava___healthy_dir = train_test_split(os.listdir(Cassava___healthy_dir), test_size = 0.1)\n",
        "\n",
        "#Memecah direktori cassava_mosaic_disease menjadi data train dan data validation\n",
        "train_Cassava___mosaic_disease_dir, val_Cassava___mosaic_disease_dir = train_test_split(os.listdir(Cassava___mosaic_disease_dir), test_size = 0.1)"
      ]
    },
    {
      "cell_type": "code",
      "execution_count": null,
      "metadata": {
        "id": "u6dSJ3YMVE4u"
      },
      "outputs": [],
      "source": [
        "#Mendefinisikan tiap folder untuk setiap train\n",
        "train_Cassava___bacterial_blight = os.path.join(train_dir, 'Cassava___bacterial_blight')\n",
        "train_Cassava___brown_streak_disease = os.path.join(train_dir, 'Cassava___brown_streak_disease')\n",
        "train_Cassava___green_mottle = os.path.join(train_dir, 'Cassava___green_mottle')\n",
        "train_Cassava___healthy = os.path.join(train_dir, 'Cassava___healthy')\n",
        "train_Cassava___mosaic_disease = os.path.join(train_dir, 'Cassava___mosaic_disease')\n",
        "\n",
        "#Mendefinisikan tiap folder untuk setiap validation\n",
        "val_Cassava___bacterial_blight = os.path.join(validation_dir, 'Cassava___bacterial_blight')\n",
        "val_Cassava___brown_streak_disease = os.path.join(validation_dir, 'Cassava___brown_streak_disease')\n",
        "val_Cassava___green_mottle = os.path.join(validation_dir, 'Cassava___green_mottle')\n",
        "val_Cassava___healthy = os.path.join(validation_dir, 'Cassava___healthy')\n",
        "val_Cassava___mosaic_disease = os.path.join(validation_dir, 'Cassava___mosaic_disease')\n",
        "\n",
        "# Membuat directory baru di dalam directory train\n",
        "if not os.path.exists(train_Cassava___bacterial_blight):\n",
        "  os.mkdir(train_Cassava___bacterial_blight)\n",
        "if not os.path.exists(train_Cassava___brown_streak_disease):\n",
        "  os.mkdir(train_Cassava___brown_streak_disease)\n",
        "if not os.path.exists(train_Cassava___green_mottle):\n",
        "  os.mkdir(train_Cassava___green_mottle)\n",
        "if not os.path.exists(train_Cassava___healthy):\n",
        "  os.mkdir(train_Cassava___healthy)\n",
        "if not os.path.exists(train_Cassava___mosaic_disease):\n",
        "  os.mkdir(train_Cassava___mosaic_disease)\n",
        "\n",
        "# Membuat directory baru di dalam directory validation\n",
        "if not os.path.exists(val_Cassava___bacterial_blight):\n",
        "  os.mkdir(val_Cassava___bacterial_blight)\n",
        "if not os.path.exists(val_Cassava___brown_streak_disease):\n",
        "  os.mkdir(val_Cassava___brown_streak_disease)\n",
        "if not os.path.exists(val_Cassava___green_mottle):\n",
        "  os.mkdir(val_Cassava___green_mottle)\n",
        "if not os.path.exists(val_Cassava___healthy):\n",
        "  os.mkdir(val_Cassava___healthy)\n",
        "if not os.path.exists(val_Cassava___mosaic_disease):\n",
        "  os.mkdir(val_Cassava___mosaic_disease)"
      ]
    },
    {
      "cell_type": "code",
      "execution_count": null,
      "metadata": {
        "id": "6KI5x3xEVF5u"
      },
      "outputs": [],
      "source": [
        "# Mengcopy data train ke directory baru\n",
        "for i in train_Cassava___bacterial_blight_dir:\n",
        "  shutil.copy(os.path.join(Cassava___bacterial_blight_dir, i), os.path.join(train_Cassava___bacterial_blight, i))\n",
        "for i in train_Cassava___brown_streak_disease_dir:\n",
        "  shutil.copy(os.path.join(Cassava___brown_streak_disease_dir, i), os.path.join(train_Cassava___brown_streak_disease, i))\n",
        "for i in train_Cassava___green_mottle_dir:\n",
        "  shutil.copy(os.path.join(Cassava___green_mottle_dir, i), os.path.join(train_Cassava___green_mottle, i))\n",
        "for i in train_Cassava___healthy_dir:\n",
        "  shutil.copy(os.path.join(Cassava___healthy_dir, i), os.path.join(train_Cassava___healthy, i))\n",
        "for i in train_Cassava___mosaic_disease_dir:\n",
        "  shutil.copy(os.path.join(Cassava___mosaic_disease_dir, i), os.path.join(train_Cassava___mosaic_disease, i))\n",
        "\n",
        "# Mengcopy data validation ke directory baru\n",
        "for i in val_Cassava___bacterial_blight_dir:\n",
        "  shutil.copy(os.path.join(Cassava___bacterial_blight_dir, i), os.path.join(val_Cassava___bacterial_blight, i))\n",
        "for i in val_Cassava___brown_streak_disease_dir:\n",
        "  shutil.copy(os.path.join(Cassava___brown_streak_disease_dir, i), os.path.join(val_Cassava___brown_streak_disease, i))\n",
        "for i in val_Cassava___green_mottle_dir:\n",
        "  shutil.copy(os.path.join(Cassava___green_mottle_dir, i), os.path.join(val_Cassava___green_mottle, i))\n",
        "for i in val_Cassava___healthy_dir:\n",
        "  shutil.copy(os.path.join(Cassava___healthy_dir, i), os.path.join(val_Cassava___healthy, i))\n",
        "for i in val_Cassava___mosaic_disease_dir:\n",
        "  shutil.copy(os.path.join(Cassava___mosaic_disease_dir, i), os.path.join(val_Cassava___mosaic_disease, i))"
      ]
    },
    {
      "cell_type": "code",
      "execution_count": null,
      "metadata": {
        "id": "_OAqJSEzVHN3"
      },
      "outputs": [],
      "source": [
        "# Callback untuk menghentikan training berdasarkan akurasi\n",
        "class MyCallback(tf.keras.callbacks.Callback):\n",
        "  def on_epoch_end(self, epoch, logs={}):\n",
        "    if(logs.get('val_accuracy') > 0.90):\n",
        "      print(\"\\nAkurasi melewati 90%, hentikan proses training!\")\n",
        "      self.model.stop_training = True\n",
        "\n",
        "callback = MyCallback()"
      ]
    },
    {
      "cell_type": "code",
      "execution_count": null,
      "metadata": {
        "id": "ftWXmjgAVIOb"
      },
      "outputs": [],
      "source": [
        "train_datagen = ImageDataGenerator(\n",
        "    rescale=1./255,\n",
        "    rotation_range=40,\n",
        "    width_shift_range=0.2,\n",
        "    height_shift_range=0.2,\n",
        "    shear_range=0.2,\n",
        "    zoom_range=0.2,\n",
        "    horizontal_flip=True,\n",
        "    fill_mode='nearest'\n",
        ")\n",
        "\n",
        "validation_datagen = ImageDataGenerator(rescale=1./255)"
      ]
    },
    {
      "cell_type": "code",
      "execution_count": null,
      "metadata": {
        "colab": {
          "base_uri": "https://localhost:8080/"
        },
        "id": "2M-dGNz4Vct3",
        "outputId": "9efe9c18-a2ba-4785-cffe-7ef941c0f996"
      },
      "outputs": [
        {
          "output_type": "stream",
          "name": "stdout",
          "text": [
            "Found 19256 images belonging to 5 classes.\n",
            "Found 2141 images belonging to 5 classes.\n"
          ]
        }
      ],
      "source": [
        "train_generator = train_datagen.flow_from_directory(\n",
        "    train_dir,\n",
        "    target_size=(224,224),\n",
        "    batch_size=32,\n",
        "    class_mode='categorical'\n",
        ")\n",
        "\n",
        "validation_generator = validation_datagen.flow_from_directory(\n",
        "    validation_dir,\n",
        "    target_size=(224,224),\n",
        "    batch_size=32,\n",
        "    class_mode='categorical'\n",
        ")\n",
        "\n",
        "#calculate steps per epoch and validation steps\n",
        "steps_per_epoch = max(train_generator.samples//train_generator.batch_size,1)\n",
        "validation_steps = max(validation_generator.samples//validation_generator.batch_size,1)"
      ]
    },
    {
      "cell_type": "code",
      "execution_count": null,
      "metadata": {
        "id": "D1KPdseQVlPl",
        "colab": {
          "base_uri": "https://localhost:8080/"
        },
        "outputId": "5214d877-1e41-41aa-a1e1-c4ea45cd1808"
      },
      "outputs": [
        {
          "output_type": "stream",
          "name": "stdout",
          "text": [
            "Downloading data from https://storage.googleapis.com/tensorflow/keras-applications/mobilenet_v2/mobilenet_v2_weights_tf_dim_ordering_tf_kernels_1.0_224_no_top.h5\n",
            "9406464/9406464 [==============================] - 0s 0us/step\n"
          ]
        }
      ],
      "source": [
        "from tensorflow.keras.models import Sequential\n",
        "from tensorflow.keras.applications import MobileNetV2\n",
        "from tensorflow.keras.layers import Dense, GlobalAveragePooling2D, Dropout\n",
        "\n",
        "base_model = MobileNetV2(\n",
        "    weights='imagenet',\n",
        "    include_top=False,\n",
        "    input_shape=(224, 224, 3))"
      ]
    },
    {
      "cell_type": "code",
      "source": [
        "x = base_model.output\n",
        "x = GlobalAveragePooling2D()(x)\n",
        "x = layers.Dense(1024, activation='relu')(x)\n",
        "x = layers.BatchNormalization()(x)\n",
        "x = layers.Dropout(0.3)(x)\n",
        "x = layers.Dense(512, activation='relu')(x)\n",
        "predictions = Dense(train_generator.num_classes, activation='softmax')(x)\n",
        "\n",
        "model = Model(inputs=base_model.input, outputs=predictions)\n",
        "\n",
        "model.compile(optimizer=Adam(), loss='categorical_crossentropy', metrics=['accuracy'])\n",
        "\n",
        "history = model.fit(\n",
        "    train_generator,\n",
        "    steps_per_epoch=steps_per_epoch,\n",
        "    validation_data=validation_generator,\n",
        "    validation_steps=validation_steps,\n",
        "    epochs=5\n",
        ")"
      ],
      "metadata": {
        "colab": {
          "base_uri": "https://localhost:8080/"
        },
        "id": "ykN1A-MHuHP_",
        "outputId": "e19ef3ef-920a-4d64-a5b2-863c2c927de2"
      },
      "execution_count": null,
      "outputs": [
        {
          "output_type": "stream",
          "name": "stdout",
          "text": [
            "Epoch 1/5\n",
            "601/601 [==============================] - 4755s 8s/step - loss: 0.9964 - accuracy: 0.6768 - val_loss: 21.5176 - val_accuracy: 0.4176\n",
            "Epoch 2/5\n",
            "601/601 [==============================] - 4784s 8s/step - loss: 0.7648 - accuracy: 0.7362 - val_loss: 2.9837 - val_accuracy: 0.6719\n",
            "Epoch 3/5\n",
            "204/601 [=========>....................] - ETA: 51:27 - loss: 0.6450 - accuracy: 0.7685"
          ]
        }
      ]
    },
    {
      "cell_type": "code",
      "source": [
        "x = base_model.output\n",
        "x = GlobalAveragePooling2D()(x)\n",
        "x = layers.Dense(1024, activation='relu')(x)\n",
        "x = layers.BatchNormalization()(x)\n",
        "x = layers.Dropout(0.3)(x)\n",
        "x = layers.Dense(512, activation='relu')(x)\n",
        "predictions = Dense(train_generator.num_classes, activation='softmax')(x)\n",
        "\n",
        "model = Model(inputs=base_model.input, outputs=predictions)\n",
        "\n",
        "# Unfreeze the base_model and fine-tune the model\n",
        "for layer in base_model.layers:\n",
        "    layer.trainable = True\n",
        "\n",
        "model.compile(optimizer=Adam(1e-5), loss='categorical_crossentropy', metrics=['accuracy'])\n",
        "\n",
        "history_fine = model.fit(\n",
        "    train_generator,\n",
        "    steps_per_epoch=steps_per_epoch,\n",
        "    validation_data=validation_generator,\n",
        "    validation_steps=validation_steps,\n",
        "    epochs=20,\n",
        "    callbacks = [callback]\n",
        ")"
      ],
      "metadata": {
        "id": "pvwkmMMoRaaQ"
      },
      "execution_count": null,
      "outputs": []
    },
    {
      "cell_type": "code",
      "source": [
        "# x = base_model.output\n",
        "# x = GlobalAveragePooling2D()(x)\n",
        "# x = layers.Dense(1024, activation='relu')(x)\n",
        "# x = layers.BatchNormalization()(x)\n",
        "# x = layers.Dropout(0.3)(x)\n",
        "# x = layers.Dense(512, activation='relu')(x)\n",
        "# predictions = Dense(train_generator.num_classes, activation='softmax')(x)\n",
        "\n",
        "# model = Model(inputs=base_model.input, outputs=predictions)\n",
        "\n",
        "# # Freeze the base_model\n",
        "# for layer in base_model.layers:\n",
        "#     layer.trainable = False\n",
        "\n",
        "# model.compile(optimizer=Adam(), loss='categorical_crossentropy', metrics=['accuracy'])\n",
        "\n",
        "# # Train the model\n",
        "# history = model.fit(\n",
        "#     train_generator,\n",
        "#     steps_per_epoch=steps_per_epoch,\n",
        "#     validation_data=validation_generator,\n",
        "#     validation_steps=validation_steps,\n",
        "#     epochs=5\n",
        "# )"
      ],
      "metadata": {
        "id": "Eo_mzA2jRgUp"
      },
      "execution_count": null,
      "outputs": []
    },
    {
      "cell_type": "code",
      "execution_count": null,
      "metadata": {
        "id": "gxQxPoQEqpJ2"
      },
      "outputs": [],
      "source": [
        "# train_acc = history.history['accuracy']\n",
        "# val_acc = history.history['val_accuracy']\n",
        "# train_loss = history.history['loss']\n",
        "# val_loss = history.history['val_loss']\n",
        "\n",
        "# plt.figure(figsize=(12,8))\n",
        "# plt.subplot(1,2,1)\n",
        "# plt.plot(train_acc, label='Training Acc')\n",
        "# plt.plot(val_acc, label='Validation Acc')\n",
        "# plt.title(\"Training and Validation Acc\")\n",
        "# plt.xlabel('Epoch')\n",
        "# plt.ylabel('Accuracy')\n",
        "# plt.legend()\n",
        "\n",
        "# plt.figure(figsize=(12,8))\n",
        "# plt.subplot(1,2,2)\n",
        "# plt.plot(train_loss, label='Training Loss')\n",
        "# plt.plot(val_loss, label='Validation Loss')\n",
        "# plt.title(\"Training and Validation Loss\")\n",
        "# plt.xlabel('Epoch')\n",
        "# plt.ylabel('Loss')\n",
        "# plt.legend()\n",
        "\n",
        "# plt.tight_layout()\n",
        "# plt.show()"
      ]
    },
    {
      "cell_type": "code",
      "execution_count": null,
      "metadata": {
        "id": "PXw5RkN5QZ1f"
      },
      "outputs": [],
      "source": [
        "# from google.colab import files\n",
        "# uploaded = files.upload()\n",
        "# for fn in uploaded.keys():\n",
        "\n",
        "#   path = fn\n",
        "#   img = image.load_img(path, target_size =(150,150))\n",
        "#   imgplot = plt.imshow(img)\n",
        "#   x = image.img_to_array(img)\n",
        "#   x = np.expand_dims(x, axis=0)\n",
        "\n",
        "#   images = np.vstack([x])\n",
        "#   classes = model.predict(images, batch_size=32)"
      ]
    },
    {
      "cell_type": "code",
      "execution_count": null,
      "metadata": {
        "id": "cWkv46ghVziq"
      },
      "outputs": [],
      "source": [
        "# test_img = image.load_img(path, target_size=(150,150))\n",
        "# img_arr = image.img_to_array(test_img)\n",
        "# img_arr = np.expand_dims(img_arr, axis=0)\n",
        "# #normalisasi piksel [0-1]\n",
        "# img_arr /= 255.0\n",
        "\n",
        "# prediksi = model.predict(img_arr)\n",
        "# kelas = np.argmax(prediksi)\n",
        "# # print(f\"Predicted kelas : {kelas}\")\n",
        "# # print(f\"confidence : {prediksi[0][kelas]}\" )"
      ]
    },
    {
      "cell_type": "code",
      "execution_count": null,
      "metadata": {
        "id": "UVyBDNnwV1_W"
      },
      "outputs": [],
      "source": [
        "# list_kelas = list(train_generator.class_indices.keys())\n",
        "# print(list_kelas)"
      ]
    },
    {
      "cell_type": "code",
      "execution_count": null,
      "metadata": {
        "id": "A_eRWfN2Qad4"
      },
      "outputs": [],
      "source": [
        "# def hasil_prediksi(kelas):\n",
        "#   if kelas == 1:\n",
        "#     print(\"Tanaman anda terkena penyakit hawar bakteri\")\n",
        "#     print(\"Akurasi prediksi\",round((prediksi[0][kelas] * 100),2),\"%\")\n",
        "#   elif kelas == 2:\n",
        "#     print(\"Tanaman anda terkena penyakit garis-garis coklat\")\n",
        "#     print(\"Akurasi prediksi\",round((prediksi[0][kelas] * 100),2),\"%\")\n",
        "#   elif kelas == 3:\n",
        "#     print(\"Tanaman anda terkena penyakit belang hijau\")\n",
        "#     print(\"Akurasi prediksi\",round((prediksi[0][kelas] * 100),2),\"%\")\n",
        "#   elif kelas == 4:\n",
        "#     print(\"Tanaman anda sehat, terus perhatikan kesehatan tanaman anda!\")\n",
        "#     print(\"Akurasi prediksi\",round((prediksi[0][kelas] * 100),2),\"%\")\n",
        "#   else:\n",
        "#     print(\"Tanaman anda terkena penyakit mosaik\")\n",
        "#     print(\"Akurasi prediksi\",round((prediksi[0][kelas] * 100),2),\"%\")\n",
        "\n",
        "#     return hasil_prediksi"
      ]
    },
    {
      "cell_type": "code",
      "source": [
        "hasil_prediksi(kelas)"
      ],
      "metadata": {
        "id": "1ba8HSKBSbRS"
      },
      "execution_count": null,
      "outputs": []
    },
    {
      "cell_type": "code",
      "execution_count": null,
      "metadata": {
        "id": "LRhS_oP_xMeM"
      },
      "outputs": [],
      "source": [
        "export_dir = 'cassava_model'\n",
        "\n",
        "model.save(export_dir)"
      ]
    },
    {
      "cell_type": "code",
      "execution_count": null,
      "metadata": {
        "id": "HisyejiTyJDq"
      },
      "outputs": [],
      "source": [
        "mode = \"Speed\"\n",
        "\n",
        "if mode == 'Storage':\n",
        "    optimization = tf.lite.Optimize.OPTIMIZE_FOR_SIZE\n",
        "elif mode == 'Speed':\n",
        "    optimization = tf.lite.Optimize.OPTIMIZE_FOR_LATENCY\n",
        "else:\n",
        "    optimization = tf.lite.Optimize.DEFAULT"
      ]
    },
    {
      "cell_type": "code",
      "execution_count": null,
      "metadata": {
        "id": "red-EVz2yKQE"
      },
      "outputs": [],
      "source": [
        "# Use the TFLiteConverter SavedModel API to initialize the converter\n",
        "converter = tf.lite.TFLiteConverter.from_saved_model(export_dir)\n",
        "\n",
        "# Set the optimizations\n",
        "converter.optimizations = [optimization]\n",
        "\n",
        "# Invoke the converter to finally generate the TFLite model\n",
        "tflite_model = converter.convert()"
      ]
    },
    {
      "cell_type": "code",
      "execution_count": null,
      "metadata": {
        "id": "ly4g23UfyLJr"
      },
      "outputs": [],
      "source": [
        "import pathlib\n",
        "tflite_model_file = pathlib.Path('/content/cassava_model.tflite')\n",
        "tflite_model_file.write_bytes(tflite_model)"
      ]
    }
  ],
  "metadata": {
    "accelerator": "GPU",
    "colab": {
      "gpuType": "T4",
      "provenance": [],
      "machine_shape": "hm"
    },
    "kernelspec": {
      "display_name": "Python 3",
      "name": "python3"
    },
    "language_info": {
      "name": "python"
    }
  },
  "nbformat": 4,
  "nbformat_minor": 0
}